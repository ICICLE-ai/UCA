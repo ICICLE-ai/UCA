{
 "cells": [
  {
   "cell_type": "markdown",
   "metadata": {
    "id": "oHrTIO8Kwb6x"
   },
   "source": [
    "## UCA Rule Engine Notebook\n",
    "\n",
    "The **UCA Rule Engine** lets you define and manage rules that guide data and model workflows.  \n",
    "A \"rule\" is essentially an instruction that connects your data (like folders, counts, or sample images) with services (such as data labeling or model training).  \n",
    "\n",
    "This notebook helps you try the Rule Engine end-to-end - from creating a rule to listing, updating, and deleting it.  \n",
    "\n",
    "Just run the cells in order to see how it works."
   ]
  },
  {
   "cell_type": "markdown",
   "metadata": {
    "id": "KoIvzxXISuvB"
   },
   "source": [
    "### 1) Setup"
   ]
  },
  {
   "cell_type": "markdown",
   "metadata": {
    "id": "iYXHN49vSyou"
   },
   "source": [
    "Installing dependencies"
   ]
  },
  {
   "cell_type": "code",
   "execution_count": 36,
   "metadata": {
    "id": "AIPhS9Bfhzc8"
   },
   "outputs": [],
   "source": [
    "!pip -q install requests tapipy python-dotenv"
   ]
  },
  {
   "cell_type": "markdown",
   "metadata": {
    "id": "-VnlQ2FZS8AS"
   },
   "source": [
    "Importing packages"
   ]
  },
  {
   "cell_type": "code",
   "execution_count": 37,
   "metadata": {
    "id": "KhCO6HZACQv2"
   },
   "outputs": [],
   "source": [
    "from getpass import getpass\n",
    "from pprint import pprint\n",
    "\n",
    "import requests\n",
    "from tapipy.tapis import Tapis"
   ]
  },
  {
   "cell_type": "markdown",
   "metadata": {
    "id": "qJGMpu_uS_b_"
   },
   "source": [
    "### 2) Configure API"
   ]
  },
  {
   "cell_type": "markdown",
   "metadata": {
    "id": "q42dOjlzTGSo"
   },
   "source": [
    "**Side Note:**  \n",
    "As of now, the `BASE_URL` will vary depending on where the Rule Engine is hosted.  \n",
    "\n",
    "- For local runs, you can use ngrok (or a similar tool) to generate a temporary URL as Notebook doesn't support `localhost`\n",
    "- In dev or shared environments, this will be updated to the appropriate domain once we learn more about the existing ICICLE practices for hosting servers.    \n",
    "\n",
    "Please update the `BASE_URL` in this notebook to match the environment you are testing against."
   ]
  },
  {
   "cell_type": "code",
   "execution_count": 38,
   "metadata": {
    "colab": {
     "base_uri": "https://localhost:8080/"
    },
    "id": "wqsePURtQM0S",
    "outputId": "5fb0a8ee-63de-4d28-d130-ed5dd7bc37eb"
   },
   "outputs": [
    {
     "name": "stdout",
     "output_type": "stream",
     "text": [
      "BASE_URL = https://df42ffe69d9d.ngrok-free.app\n"
     ]
    }
   ],
   "source": [
    "# Server URL\n",
    "BASE_URL = \"https://df42ffe69d9d.ngrok-free.app\" # Example URL\n",
    "print(\"BASE_URL =\", BASE_URL)"
   ]
  },
  {
   "cell_type": "markdown",
   "metadata": {
    "id": "_0TeOZhlTTQ9"
   },
   "source": [
    "### 3) Tapis authentication"
   ]
  },
  {
   "cell_type": "markdown",
   "metadata": {
    "id": "K31WyruzTceg"
   },
   "source": [
    "- Enter Tapis tenant, username, and password in the cell.\n",
    "- The notebook fetches an access token."
   ]
  },
  {
   "cell_type": "code",
   "execution_count": 40,
   "metadata": {
    "colab": {
     "base_uri": "https://localhost:8080/"
    },
    "id": "otziCQKEPZg3",
    "outputId": "d87892e9-5438-43fd-f59f-bf6d5e628014"
   },
   "outputs": [
    {
     "name": "stdout",
     "output_type": "stream",
     "text": [
      "username : molakalmuru\n",
      "password : ··········\n",
      "Access token acquired (length): 912\n"
     ]
    }
   ],
   "source": [
    "# Tapis login (client-side only)\n",
    "TAPIS_URL = \"https://tacc.tapis.io\"   # or your tenant base\n",
    "USERNAME  = input(\"username : \")\n",
    "PASSWORD  = getpass(\"password : \")\n",
    "\n",
    "t = Tapis(base_url=TAPIS_URL, username=USERNAME, password=PASSWORD)\n",
    "t.get_tokens()\n",
    "ACCESS_TOKEN = t.access_token.access_token\n",
    "print(\"Access token acquired (length):\", len(ACCESS_TOKEN))"
   ]
  },
  {
   "cell_type": "markdown",
   "metadata": {
    "id": "TBSx64EyVtJb"
   },
   "source": [
    "#### Setting up Authentication Helpers\n",
    "\n",
    "Here we define small helpers to make authenticated requests:\n",
    "\n",
    "- **Headers**: Attaching Tapis access token (`Authorization: Bearer ...`).\n",
    "- **Params**: Optionally send the token as a query param (`?tapis_token=...`).\n",
    "- **Raise with body**: Collects error details so we can see why a call failed.\n",
    "\n",
    "we won’t need to touch these once set up — the rest of the notebook will use them automatically"
   ]
  },
  {
   "cell_type": "code",
   "execution_count": 41,
   "metadata": {
    "id": "5_cPRItQQj6S"
   },
   "outputs": [],
   "source": [
    "S = requests.Session()\n",
    "# Preferred: Authorization header\n",
    "HEADERS = {\"Authorization\": f\"Bearer {ACCESS_TOKEN}\", \"Content-Type\": \"application/json\"}\n",
    "\n",
    "# Optional: if you enabled query param auth in the server (`tapis_token`)\n",
    "USE_QUERY_TOKEN = False  # set True only if you want to send ?tapis_token=<token>\n",
    "\n",
    "def _headers():\n",
    "    return None if USE_QUERY_TOKEN else HEADERS\n",
    "\n",
    "def _params(extra: dict | None = None):\n",
    "    p = {}\n",
    "    if USE_QUERY_TOKEN:\n",
    "        p[\"tapis_token\"] = ACCESS_TOKEN\n",
    "    if extra:\n",
    "        p.update(extra)\n",
    "    return p or None\n",
    "\n",
    "def _raise_with_body(resp: requests.Response):\n",
    "    try:\n",
    "        body = resp.json()\n",
    "    except Exception:\n",
    "        body = resp.text\n",
    "    status = resp.status_code\n",
    "    msg = f\"HTTP {status}: {body}\"\n",
    "    resp.raise_for_status()\n",
    "    raise RuntimeError(msg)"
   ]
  },
  {
   "cell_type": "markdown",
   "metadata": {
    "id": "oooeSE7lWxIB"
   },
   "source": [
    "\n",
    "### 4) Health Check\n",
    "\n",
    "- Quick ping to `/health`.\n",
    "- Expect: `{ \"status\": \"ok\" }`"
   ]
  },
  {
   "cell_type": "code",
   "execution_count": 42,
   "metadata": {
    "colab": {
     "base_uri": "https://localhost:8080/"
    },
    "id": "n-A7HavdWm-j",
    "outputId": "d429c3ff-b7ca-46cd-ab7b-01360aeccb39"
   },
   "outputs": [
    {
     "name": "stdout",
     "output_type": "stream",
     "text": [
      "Health: {'status': 'ok'}\n"
     ]
    }
   ],
   "source": [
    "def health():\n",
    "    r = S.get(f\"{BASE_URL}/health\", headers=_headers(), params=_params(), timeout=20)\n",
    "    if r.status_code >= 400: \n",
    "        _raise_with_body(r)\n",
    "    return r.json()\n",
    "\n",
    "print(\"Health:\", health())"
   ]
  },
  {
   "cell_type": "markdown",
   "metadata": {
    "id": "aaNzGO2LW-HM"
   },
   "source": [
    "\n",
    "### 5) Create a Rule"
   ]
  },
  {
   "cell_type": "markdown",
   "metadata": {
    "id": "6LFEGwbNcHAp"
   },
   "source": [
    "This step adds a new rule for the user into the Rule Engine.  \n",
    "When you create a rule, it gets stored in the database and linked to your user identity.  \n"
   ]
  },
  {
   "cell_type": "code",
   "execution_count": 43,
   "metadata": {
    "id": "RNuqLGIUY9FU"
   },
   "outputs": [],
   "source": [
    "def create_rule(rule: dict) -> str:\n",
    "    r = S.post(f\"{BASE_URL}/rules\", headers=_headers(), params=_params(),\n",
    "               json=rule, timeout=30)\n",
    "    if r.status_code >= 400: \n",
    "        _raise_with_body(r)\n",
    "    return r.json()[\"Rule_UUID\"]"
   ]
  },
  {
   "cell_type": "markdown",
   "metadata": {
    "id": "VnIdVZKKZHEB"
   },
   "source": [
    "Provide a small JSON payload with `CI`, `Type` (`data` or `model`), `Services`, `Data_Rules`"
   ]
  },
  {
   "cell_type": "markdown",
   "metadata": {
    "id": "XnHRT_Bic6Mt"
   },
   "source": [
    "#### Rule Payload (What each field means)\n",
    "\n",
    "When you create a rule, you need to provide some details.  \n",
    "Here’s what each field in the below example means:\n",
    "\n",
    "- **CI**: The cyberinfrastructure (e.g., \"OSC\", \"TACC) where this rule applies.  \n",
    "- **Type**: The kind of rule (`data` or `model`).  \n",
    "- **Active_From / Active_To**: When the rule should be active (start and optional end time).  \n",
    "- **Services**: The list of services or steps this rule should trigger (e.g., `data-label`, `model-train`).  \n",
    "- **Data_Rules**: Conditions for when the rule should trigger, like monitoring a folder.  \n",
    "  - **Folder_Path**: The directory to watch.  \n",
    "  - **Type**: The metric type (e.g., `count`).  \n",
    "  - **Count**: The threshold (e.g., trigger when 10,000 new files appear).  \n",
    "  - **Apps**: Which apps to trigger once the condition is met.    \n",
    "- **Model_Rules**: Conditions for when the rule should trigger, like triggering if model accuracy is below certain threshold.  \n",
    "\n",
    "Note: Modify these values to fit your project before creating the rule."
   ]
  },
  {
   "cell_type": "markdown",
   "metadata": {
    "id": "dTCHpQgMfXFP"
   },
   "source": [
    "#### NOTE : The exact fields may change slightly as integration progresses and the project evolves."
   ]
  },
  {
   "cell_type": "code",
   "execution_count": 62,
   "metadata": {
    "id": "coADqAM3ZMWa"
   },
   "outputs": [],
   "source": [
    "# Example payload. Modify accordingly\n",
    "rule_json = {\n",
    "      \"CI\": \"OSC\",\n",
    "      \"Type\": \"data\",\n",
    "      \"Active_From\": \"2025-12-09T12:00:00\",\n",
    "      \"Active_To\": None,\n",
    "      \"Services\": [\n",
    "        \"data-label\",\n",
    "        \"model-train\"\n",
    "      ],\n",
    "      \"Data_Rules\": [\n",
    "        {\n",
    "          \"Folder_Path\": \"/fs/ess/PAS1111/test/projectA/images\",\n",
    "          \"Type\": \"count\",\n",
    "          \"Count\": 10000,\n",
    "          \"Apps\": [\n",
    "            \"<TAPIS_APP_ID_1>\",\n",
    "            \"<TAPIS_APP_ID_2>\"\n",
    "          ],\n",
    "          \"Sample_Images\": True,\n",
    "          \"Wait_Manual\": True\n",
    "        }\n",
    "      ],\n",
    "      \"Model_Rules\": []\n",
    "    }"
   ]
  },
  {
   "cell_type": "code",
   "execution_count": 63,
   "metadata": {
    "colab": {
     "base_uri": "https://localhost:8080/"
    },
    "id": "q_5sbyBxZ4ae",
    "outputId": "50cbf8a1-9044-42f0-99c2-4ff0e376abe5"
   },
   "outputs": [
    {
     "name": "stdout",
     "output_type": "stream",
     "text": [
      "Created: d93ee37c-2e72-4060-9554-8d4deea748c4\n"
     ]
    }
   ],
   "source": [
    "rule_uuid = create_rule(rule_json)\n",
    "print(\"Created:\", rule_uuid)"
   ]
  },
  {
   "cell_type": "markdown",
   "metadata": {
    "id": "S55Qm51aZt-Q"
   },
   "source": [
    "On success you’ll get back `rule_uuid`"
   ]
  },
  {
   "cell_type": "markdown",
   "metadata": {
    "id": "4AvUUZ4AgIjI"
   },
   "source": [
    "### 6) List Rules\n",
    "\n",
    "Fetches all your stored rules (scoped to your Tapis identity)"
   ]
  },
  {
   "cell_type": "code",
   "execution_count": 57,
   "metadata": {
    "id": "Yxh9DKvRgHTI"
   },
   "outputs": [],
   "source": [
    "def list_rules():\n",
    "    r = S.get(f\"{BASE_URL}/rules\", headers=_headers(), params=_params(), timeout=30)\n",
    "    if r.status_code >= 400: \n",
    "        _raise_with_body(r)\n",
    "    return r.json().get(\"items\", [])"
   ]
  },
  {
   "cell_type": "markdown",
   "metadata": {
    "id": "n6xYbQ-JhDcS"
   },
   "source": [
    "Displays the last 3 rules (if any) from your stored rules in a readable format."
   ]
  },
  {
   "cell_type": "code",
   "execution_count": 64,
   "metadata": {
    "colab": {
     "base_uri": "https://localhost:8080/"
    },
    "id": "2LjyvORqQ7cX",
    "outputId": "9777680f-b4bf-44f3-dfac-eae51a65542f"
   },
   "outputs": [
    {
     "name": "stdout",
     "output_type": "stream",
     "text": [
      "[{'Active_From': '2025-09-20T05:52:31.659870+00:00',\n",
      "  'Active_To': None,\n",
      "  'CI': 'OSC',\n",
      "  'Data_Rules': [{'Apps': ['<TAPIS_APP_ID_1>', '<TAPIS_APP_ID_2>'],\n",
      "                  'Count': 10000,\n",
      "                  'Folder_Path': '/fs/ess/PAS1111/test/projectC/images',\n",
      "                  'Sample_Images': True,\n",
      "                  'Type': 'count',\n",
      "                  'Wait_Manual': True}],\n",
      "  'Rule_UUID': 'b1bdf421-3e66-4a6f-b51d-40e476602df6',\n",
      "  'Services': ['data-label', 'model-train'],\n",
      "  'TAPIS_UUID': 'molakalmuru@tacc',\n",
      "  'Tapis_UserName': 'molakalmuru',\n",
      "  'Type': 'data'},\n",
      " {'Active_From': '2025-09-20T05:52:56.415147+00:00',\n",
      "  'Active_To': None,\n",
      "  'CI': 'OSC',\n",
      "  'Data_Rules': [{'Apps': ['<TAPIS_APP_ID_1>', '<TAPIS_APP_ID_2>'],\n",
      "                  'Count': 10000,\n",
      "                  'Folder_Path': '/fs/ess/PAS1111/test/projectB/images',\n",
      "                  'Sample_Images': True,\n",
      "                  'Type': 'count',\n",
      "                  'Wait_Manual': True}],\n",
      "  'Rule_UUID': '24947d07-97ea-4207-bebb-1be4ec471e9a',\n",
      "  'Services': ['data-label', 'model-train'],\n",
      "  'TAPIS_UUID': 'molakalmuru@tacc',\n",
      "  'Tapis_UserName': 'molakalmuru',\n",
      "  'Type': 'data'},\n",
      " {'Active_From': '2025-09-20T05:53:19.747211+00:00',\n",
      "  'Active_To': None,\n",
      "  'CI': 'OSC',\n",
      "  'Data_Rules': [{'Apps': ['<TAPIS_APP_ID_1>', '<TAPIS_APP_ID_2>'],\n",
      "                  'Count': 10000,\n",
      "                  'Folder_Path': '/fs/ess/PAS1111/test/projectA/images',\n",
      "                  'Sample_Images': True,\n",
      "                  'Type': 'count',\n",
      "                  'Wait_Manual': True}],\n",
      "  'Rule_UUID': 'd93ee37c-2e72-4060-9554-8d4deea748c4',\n",
      "  'Services': ['data-label', 'model-train'],\n",
      "  'TAPIS_UUID': 'molakalmuru@tacc',\n",
      "  'Tapis_UserName': 'molakalmuru',\n",
      "  'Type': 'data'}]\n"
     ]
    }
   ],
   "source": [
    "pprint(list_rules()[-3:])"
   ]
  },
  {
   "cell_type": "markdown",
   "metadata": {
    "id": "QHtD7MAHhPVL"
   },
   "source": [
    "### 7) Get a Rule (by UUID)\n",
    "\n",
    "Retrieving a particular rule based on the `rule_uuid`"
   ]
  },
  {
   "cell_type": "code",
   "execution_count": 68,
   "metadata": {
    "colab": {
     "base_uri": "https://localhost:8080/"
    },
    "id": "J-7q3mHNhpas",
    "outputId": "e4c0d665-7a90-405d-ccdf-2a2eadaa307a"
   },
   "outputs": [
    {
     "name": "stdout",
     "output_type": "stream",
     "text": [
      "{'Active_From': '2025-09-20T05:53:19.747211+00:00',\n",
      " 'Active_To': None,\n",
      " 'CI': 'TACC',\n",
      " 'Data_Rules': [{'Apps': ['<TAPIS_APP_ID_1>', '<TAPIS_APP_ID_2>'],\n",
      "                 'Count': 10000,\n",
      "                 'Folder_Path': '/fs/ess/PAS1111/test/projectA/images',\n",
      "                 'Sample_Images': True,\n",
      "                 'Type': 'count',\n",
      "                 'Wait_Manual': True}],\n",
      " 'Rule_UUID': 'd93ee37c-2e72-4060-9554-8d4deea748c4',\n",
      " 'Services': ['data-label', 'model-train'],\n",
      " 'TAPIS_UUID': 'molakalmuru@tacc',\n",
      " 'Tapis_UserName': 'molakalmuru',\n",
      " 'Type': 'data'}\n"
     ]
    }
   ],
   "source": [
    "def get_rule(rule_uuid: str):\n",
    "    r = S.get(f\"{BASE_URL}/rules/{rule_uuid}\", headers=_headers(), params=_params(), timeout=30)\n",
    "    if r.status_code >= 400: \n",
    "        _raise_with_body(r)\n",
    "    return r.json()\n",
    "\n",
    "pprint(get_rule(rule_uuid))"
   ]
  },
  {
   "cell_type": "markdown",
   "metadata": {
    "id": "CFKOIFISi3ED"
   },
   "source": [
    "### 8) Update a Rule\n",
    "\n",
    "- Send updates (e.g., set `Active_To` or `CI`)\n",
    "- Confirm with a subsequent `get_rule` or `list_rules`"
   ]
  },
  {
   "cell_type": "code",
   "execution_count": 66,
   "metadata": {
    "id": "I5f7W6qXj1Oj"
   },
   "outputs": [],
   "source": [
    "def update_rule(rule_uuid: str, updates: dict):\n",
    "    r = S.patch(f\"{BASE_URL}/rules/{rule_uuid}\", headers=_headers(), params=_params(),\n",
    "                json={\"updates\": updates}, timeout=30)\n",
    "    if r.status_code >= 400: \n",
    "        _raise_with_body(r)\n",
    "    return r.json()"
   ]
  },
  {
   "cell_type": "code",
   "execution_count": 67,
   "metadata": {
    "colab": {
     "base_uri": "https://localhost:8080/"
    },
    "id": "HKjLKQYnsPxw",
    "outputId": "49050221-171b-489f-c849-a300d6cb167c"
   },
   "outputs": [
    {
     "name": "stdout",
     "output_type": "stream",
     "text": [
      "Update Result: {'ok': True}\n"
     ]
    }
   ],
   "source": [
    "updates = {\n",
    "    \"CI\": \"TACC\",\n",
    "}\n",
    "\n",
    "result = update_rule(rule_uuid, updates)\n",
    "print(\"Update Result:\", result)"
   ]
  },
  {
   "cell_type": "markdown",
   "metadata": {
    "id": "GWQh0GRfjgRg"
   },
   "source": [
    "## Add a updare call"
   ]
  },
  {
   "cell_type": "markdown",
   "metadata": {
    "id": "5u4bVQc2kAaW"
   },
   "source": [
    "### 9) Delete a Rule\n",
    "\n",
    "- Delete by `rule_uuid`.\n",
    "- Confirm with a subsequent `get_rule` or `list_rules`"
   ]
  },
  {
   "cell_type": "code",
   "execution_count": 69,
   "metadata": {
    "colab": {
     "base_uri": "https://localhost:8080/"
    },
    "id": "iYJ1hG4KQrod",
    "outputId": "19e6d857-40a8-417d-dbe2-79eb1a97caca"
   },
   "outputs": [
    {
     "name": "stdout",
     "output_type": "stream",
     "text": [
      "{'ok': True}\n"
     ]
    }
   ],
   "source": [
    "def delete_rule(rule_uuid: str):\n",
    "    r = S.delete(f\"{BASE_URL}/rules/{rule_uuid}\", headers=_headers(), params=_params(), timeout=30)\n",
    "    if r.status_code >= 400: \n",
    "        _raise_with_body(r)\n",
    "    return r.json()\n",
    "\n",
    "pprint(delete_rule(rule_uuid))"
   ]
  },
  {
   "cell_type": "markdown",
   "metadata": {
    "id": "P4VhLThQkytM"
   },
   "source": [
    "### Notes\n",
    "\n",
    "- The API validates your token **per request** (stateless).\n",
    "- Rules store identity (`TAPIS_UUID`, `Tapis_UserName`), not raw tokens.\n",
    "- For dev vs. prod: only the `BASE_URL` changes."
   ]
  },
  {
   "cell_type": "markdown",
   "metadata": {
    "id": "0QjETEBgk7DB"
   },
   "source": [
    "### Wrap-Up\n",
    "\n",
    "You now have a minimal flow to **create, read, update, delete** rules against the UCA Rule Engine.  \n",
    "Point `BASE_URL` to any environment and repeat the same steps."
   ]
  }
 ],
 "metadata": {
  "colab": {
   "provenance": []
  },
  "kernelspec": {
   "display_name": "Python 3",
   "name": "python3"
  },
  "language_info": {
   "name": "python"
  }
 },
 "nbformat": 4,
 "nbformat_minor": 0
}
