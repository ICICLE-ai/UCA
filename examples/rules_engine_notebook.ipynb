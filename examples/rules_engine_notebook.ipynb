{
 "cells": [
  {
   "cell_type": "markdown",
   "id": "2cb4c59e-748a-40fd-b255-718ffd447e7b",
   "metadata": {},
   "source": [
    "# UCA Rules Engine Notebook\n",
    "\n",
    "The **UCA Rules Engine** lets you describe *when* certain parts of your pipeline should run.  \n",
    "Instead of manually kicking off tasks, you define **rules** that connect conditions to actions.  \n",
    "\n",
    "For example:  \n",
    "- **When** a dataset folder reaches 10,000 images -> **then** trigger labeling and training services.  \n",
    "- **When** a model’s accuracy drops below a threshold -> **then** start a fine-tuning job.  \n",
    "- **When** new data arrives in a watched location -> **then** send it for preprocessing.  \n",
    "\n",
    "In short, rules help you automate *when* to run key steps (like labeling, training, or fine-tuning models) so workflows stay consistent and adaptive without constant manual intervention.  "
   ]
  },
  {
   "cell_type": "markdown",
   "id": "1ff22e94-e7ad-46e8-9194-9f6825cd741c",
   "metadata": {},
   "source": [
    "### 1) Install dependencies\n",
    "\n",
    "Before using the Rules Engine client, we need to install a few Python dependencies and pull in the **UCA repo** (which contains the client code). "
   ]
  },
  {
   "cell_type": "code",
   "execution_count": 22,
   "id": "00ee93ea-d50c-49c3-a7ec-892abde63a33",
   "metadata": {},
   "outputs": [
    {
     "name": "stdout",
     "output_type": "stream",
     "text": [
      "\n",
      "\u001b[1m[\u001b[0m\u001b[34;49mnotice\u001b[0m\u001b[1;39;49m]\u001b[0m\u001b[39;49m A new release of pip is available: \u001b[0m\u001b[31;49m25.1.1\u001b[0m\u001b[39;49m -> \u001b[0m\u001b[32;49m25.2\u001b[0m\n",
      "\u001b[1m[\u001b[0m\u001b[34;49mnotice\u001b[0m\u001b[1;39;49m]\u001b[0m\u001b[39;49m To update, run: \u001b[0m\u001b[32;49mpip install --upgrade pip\u001b[0m\n",
      "\n",
      "\u001b[1m[\u001b[0m\u001b[34;49mnotice\u001b[0m\u001b[1;39;49m]\u001b[0m\u001b[39;49m A new release of pip is available: \u001b[0m\u001b[31;49m25.1.1\u001b[0m\u001b[39;49m -> \u001b[0m\u001b[32;49m25.2\u001b[0m\n",
      "\u001b[1m[\u001b[0m\u001b[34;49mnotice\u001b[0m\u001b[1;39;49m]\u001b[0m\u001b[39;49m To update, run: \u001b[0m\u001b[32;49mpip install --upgrade pip\u001b[0m\n"
     ]
    }
   ],
   "source": [
    "!pip install -qU \"jsonschema>=4.20,<5\" \"requests>=2.31,<3\" tapipy python-dotenv\n",
    "!pip install -q git+https://github.com/ICICLE-ai/UCA.git"
   ]
  },
  {
   "cell_type": "markdown",
   "id": "3f6b40bc-a24f-4ffd-9a34-2cf79741033b",
   "metadata": {},
   "source": [
    "**Importing packages**"
   ]
  },
  {
   "cell_type": "code",
   "execution_count": 1,
   "id": "9913433b-ddb0-477b-86fd-e6d0b8c2a24f",
   "metadata": {},
   "outputs": [],
   "source": [
    "from getpass import getpass\n",
    "from pprint import pprint\n",
    "\n",
    "from tapipy.tapis import Tapis\n",
    "\n",
    "from database.rules_engine.rules_engine import RulesEngine"
   ]
  },
  {
   "cell_type": "markdown",
   "id": "8d32491b-ccef-4d92-b6d3-53ed5443f722",
   "metadata": {},
   "source": [
    "### 2) Tapis authentication\n",
    "\n",
    "- Enter Tapis tenant, username, and password in the cell.\n",
    "- The notebook fetches an access token."
   ]
  },
  {
   "cell_type": "code",
   "execution_count": 2,
   "id": "a2f2216e-200c-4b6e-8a69-11cc3916b260",
   "metadata": {},
   "outputs": [
    {
     "name": "stdin",
     "output_type": "stream",
     "text": [
      "username :  molakalmuru\n",
      "password :  ········\n"
     ]
    },
    {
     "name": "stdout",
     "output_type": "stream",
     "text": [
      "Access token acquired (length): 912\n"
     ]
    }
   ],
   "source": [
    "# Tapis login (client-side only)\n",
    "TAPIS_URL = \"https://tacc.tapis.io\"   # or your tenant base\n",
    "USERNAME  = input(\"username : \")\n",
    "PASSWORD  = getpass(\"password : \")\n",
    "\n",
    "t = Tapis(base_url=TAPIS_URL, username=USERNAME, password=PASSWORD)\n",
    "t.get_tokens()\n",
    "ACCESS_TOKEN = t.access_token.access_token\n",
    "print(\"Access token acquired (length):\", len(ACCESS_TOKEN))"
   ]
  },
  {
   "cell_type": "markdown",
   "id": "2c900b29-2803-405d-8e62-a9545c9e8f9d",
   "metadata": {},
   "source": [
    "### 3) Connect the client\n",
    "\n",
    "Creating a `RulesEngine` client using your Tapis access token.  \n",
    "This safely signs you in so you can run the next steps (health check, create/list/update/delete rules)."
   ]
  },
  {
   "cell_type": "code",
   "execution_count": 3,
   "id": "e3960799-2ba7-48b3-89d8-523cd468f9cd",
   "metadata": {},
   "outputs": [],
   "source": [
    "re = RulesEngine(tapis_token=ACCESS_TOKEN)"
   ]
  },
  {
   "cell_type": "markdown",
   "id": "37284c93-08aa-4bc7-a85f-bfda89d147f5",
   "metadata": {},
   "source": [
    "### 4) Check server health\n",
    "\n",
    "Before creating any rules, let’s confirm the Rules Engine service is up and reachable.  \n",
    "This call returns a simple status message so you know the backend is ready to handle requests.\n",
    "\n",
    "Expect: `{ \"status\": \"ok\" }`"
   ]
  },
  {
   "cell_type": "code",
   "execution_count": 4,
   "id": "243712c3-8d3c-4240-b8fe-deca62f7803f",
   "metadata": {},
   "outputs": [
    {
     "name": "stdout",
     "output_type": "stream",
     "text": [
      "{'status': 'ok'}\n"
     ]
    }
   ],
   "source": [
    "pprint(re.health())"
   ]
  },
  {
   "cell_type": "markdown",
   "id": "b359be81-4cde-4d42-9a17-31c5365995fc",
   "metadata": {},
   "source": [
    "### 5) Create a new rule  \n",
    "\n",
    "Here we define a rule and send it to the Rules Engine.  \n",
    "\n",
    "- A rule is essentially a **trigger** defined by the user.  \n",
    "- For example, it can trigger labeling or training apps when the folder reaches a certain number of images, or when a model falls below a target accuracy.  \n",
    "- Once created, the engine returns a unique **rule ID** that you can use to track or manage this rule later.\n",
    "\n",
    "Below is an example json, modify it accordingly."
   ]
  },
  {
   "cell_type": "raw",
   "id": "e57a832a-9cc7-436b-b0f5-17d5864779e2",
   "metadata": {},
   "source": [
    "rule_json = {\n",
    "      \"CI\": \"OSC\",\n",
    "      \"Type\": \"data\",\n",
    "      \"Active_From\": \"2025-12-09T12:00:00\",\n",
    "      \"Active_To\": None,\n",
    "      \"Services\": [\n",
    "        \"data-label\",\n",
    "        \"model-train\"\n",
    "      ],\n",
    "      \"Data_Rules\": [\n",
    "        {\n",
    "          \"Folder_Path\": \"/fs/ess/PAS1111/test/projectA/images\",\n",
    "          \"Type\": \"count\",\n",
    "          \"Count\": 10000,\n",
    "          \"Apps\": [\n",
    "            \"<TAPIS_APP_ID_1>\",\n",
    "            \"<TAPIS_APP_ID_2>\"\n",
    "          ],\n",
    "          \"Sample_Images\": True,\n",
    "          \"Wait_Manual\": True\n",
    "        }\n",
    "      ],\n",
    "      \"Model_Rules\": []\n",
    "    }"
   ]
  },
  {
   "cell_type": "markdown",
   "id": "28fee2b5-3b3c-4d7a-ab98-2764c57b0338",
   "metadata": {},
   "source": [
    "**Function call to perform the creation of rule**"
   ]
  },
  {
   "cell_type": "code",
   "execution_count": 10,
   "id": "ba2d7ad5-c5ce-455d-9e70-5f2c9d316941",
   "metadata": {},
   "outputs": [
    {
     "name": "stdout",
     "output_type": "stream",
     "text": [
      "Created rule: 25d6a02a-d992-48f8-847b-49f118cabfaa\n"
     ]
    }
   ],
   "source": [
    "rule_uuid = re.create_rule(rule_json)\n",
    "print(\"Created rule:\", rule_uuid)"
   ]
  },
  {
   "cell_type": "markdown",
   "id": "846cbf5e-196e-4afe-9930-c4dab928da3b",
   "metadata": {},
   "source": [
    "### 6) Retrieve a rule  \n",
    "\n",
    "Now that we have a rule ID, we can fetch the full details of the rule from the Rules Engine.  \n",
    "\n",
    "- This step shows the **current state** of the rule stored in the system.  \n",
    "- You can use it to confirm the rule was created correctly and inspect all its parameters.  "
   ]
  },
  {
   "cell_type": "code",
   "execution_count": 12,
   "id": "d1ab2579-01f9-43dc-8d05-b3701624270e",
   "metadata": {},
   "outputs": [
    {
     "name": "stdout",
     "output_type": "stream",
     "text": [
      "{'Active_From': '2025-09-23T15:52:01.733788+00:00',\n",
      " 'Active_To': None,\n",
      " 'CI': 'OSC',\n",
      " 'Data_Rules': [{'Apps': ['<TAPIS_APP_ID_1>', '<TAPIS_APP_ID_2>'],\n",
      "                 'Count': 10000,\n",
      "                 'Folder_Path': '/fs/ess/PAS1111/test/projectA/images',\n",
      "                 'Sample_Images': True,\n",
      "                 'Type': 'count',\n",
      "                 'Wait_Manual': True}],\n",
      " 'Rule_UUID': '25d6a02a-d992-48f8-847b-49f118cabfaa',\n",
      " 'Services': ['data-label', 'model-train'],\n",
      " 'TAPIS_UUID': 'molakalmuru@tacc',\n",
      " 'Tapis_UserName': 'molakalmuru',\n",
      " 'Type': 'data'}\n"
     ]
    }
   ],
   "source": [
    "rule = re.get_rule(rule_uuid)\n",
    "pprint(rule)"
   ]
  },
  {
   "cell_type": "markdown",
   "id": "b6a43d55-4647-4ab8-af92-f02d015b35f4",
   "metadata": {},
   "source": [
    "### 7) List all rules  \n",
    "\n",
    "This command retrieves all rules currently stored in the Rules Engine for the particular user\n",
    "\n",
    "- It gives you an overview of everything you have defined so far.  \n",
    "- Here we simply print the total number of rules, but you could also inspect each rule’s details if needed.  "
   ]
  },
  {
   "cell_type": "code",
   "execution_count": 24,
   "id": "3d1f7522-175f-4a14-be84-976214b27b4a",
   "metadata": {},
   "outputs": [
    {
     "name": "stdout",
     "output_type": "stream",
     "text": [
      "Total rules: 11\n"
     ]
    }
   ],
   "source": [
    "rules = re.list_rules()\n",
    "#pprint(rules)\n",
    "print(f\"Total rules: {len(rules)}\")"
   ]
  },
  {
   "cell_type": "markdown",
   "id": "a6b1fe7e-bcf7-4dec-bf4d-b16cd261451c",
   "metadata": {},
   "source": [
    "### 8) Update an existing rule  \n",
    "\n",
    "You can modify any part of a rule after it’s been created.  \n",
    "- As an example, here we update the **CI** field of the rule.  "
   ]
  },
  {
   "cell_type": "code",
   "execution_count": 16,
   "id": "8fd6fe19-8ea6-40d7-b6de-4b421934c22d",
   "metadata": {},
   "outputs": [],
   "source": [
    "updates = {\n",
    "    \"CI\": \"TACC\"\n",
    "}"
   ]
  },
  {
   "cell_type": "markdown",
   "id": "1912e794-2690-4d7a-9b4b-1a42d09815e5",
   "metadata": {},
   "source": [
    "**Function call to update the rule**\n",
    "- The function returns a confirmation.  \n",
    "- We then can fetch the rule again to verify that the update was applied successfully.  \n",
    "\n",
    "This is useful when rules need to evolve without recreating them from scratch. "
   ]
  },
  {
   "cell_type": "code",
   "execution_count": 18,
   "id": "4cf68d0c-490b-40fa-8eff-6c727d6cac07",
   "metadata": {},
   "outputs": [
    {
     "name": "stdout",
     "output_type": "stream",
     "text": [
      "{'ok': True}\n",
      "{'Active_From': '2025-09-23T15:52:01.733788+00:00',\n",
      " 'Active_To': None,\n",
      " 'CI': 'TACC',\n",
      " 'Data_Rules': [{'Apps': ['<TAPIS_APP_ID_1>', '<TAPIS_APP_ID_2>'],\n",
      "                 'Count': 10000,\n",
      "                 'Folder_Path': '/fs/ess/PAS1111/test/projectA/images',\n",
      "                 'Sample_Images': True,\n",
      "                 'Type': 'count',\n",
      "                 'Wait_Manual': True}],\n",
      " 'Rule_UUID': '25d6a02a-d992-48f8-847b-49f118cabfaa',\n",
      " 'Services': ['data-label', 'model-train'],\n",
      " 'TAPIS_UUID': 'molakalmuru@tacc',\n",
      " 'Tapis_UserName': 'molakalmuru',\n",
      " 'Type': 'data'}\n"
     ]
    }
   ],
   "source": [
    "resp = re.update_rule(rule_uuid, updates)\n",
    "pprint(resp)\n",
    "\n",
    "# Verify\n",
    "pprint(re.get_rule(rule_uuid))"
   ]
  },
  {
   "cell_type": "markdown",
   "id": "647fdeab-adbc-4bff-bbd0-f4b7e8df2a3f",
   "metadata": {},
   "source": [
    "### 9) Delete a rule  \n",
    "\n",
    "If a rule is no longer needed, you can remove it using its unique **rule ID**.  \n",
    "- Once deleted, the rule will no longer trigger any actions.  \n",
    "- The API confirms the deletion by returning `{ \"ok\": True }`.  \n",
    "\n",
    "This helps keep your Rules Engine clean and ensures only active, relevant rules are in place.  "
   ]
  },
  {
   "cell_type": "code",
   "execution_count": 25,
   "id": "f5e69dab-5282-4e51-afc3-5ed925cb3136",
   "metadata": {},
   "outputs": [
    {
     "name": "stdout",
     "output_type": "stream",
     "text": [
      "{'ok': True}\n"
     ]
    }
   ],
   "source": [
    "resp = re.delete_rule(rule_uuid)\n",
    "pprint(resp)"
   ]
  }
 ],
 "metadata": {
  "kernelspec": {
   "display_name": "Python 3 (ipykernel)",
   "language": "python",
   "name": "python3"
  },
  "language_info": {
   "codemirror_mode": {
    "name": "ipython",
    "version": 3
   },
   "file_extension": ".py",
   "mimetype": "text/x-python",
   "name": "python",
   "nbconvert_exporter": "python",
   "pygments_lexer": "ipython3",
   "version": "3.13.5"
  }
 },
 "nbformat": 4,
 "nbformat_minor": 5
}
